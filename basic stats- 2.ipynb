{
 "cells": [
  {
   "cell_type": "code",
   "execution_count": 10,
   "id": "d5641d46",
   "metadata": {},
   "outputs": [],
   "source": [
    "import numpy as np\n",
    "import pandas as pd\n",
    "from scipy.stats import t, norm"
   ]
  },
  {
   "cell_type": "code",
   "execution_count": 11,
   "id": "95c1342d",
   "metadata": {},
   "outputs": [],
   "source": [
    "df = np.array([1.13, 1.55, 1.43, 0.92, 1.25, 1.36, 1.32, 0.85, 1.07, 1.48, 1.20, 1.33, 1.18, 1.22, 1.29])"
   ]
  },
  {
   "cell_type": "markdown",
   "id": "11ebe844",
   "metadata": {},
   "source": [
    "# A: 99% Confidence Interval Using Sample Standard Deviation"
   ]
  },
  {
   "cell_type": "markdown",
   "id": "faa22a31",
   "metadata": {},
   "source": [
    " calculate the sample mean"
   ]
  },
  {
   "cell_type": "code",
   "execution_count": 12,
   "id": "0de5d211",
   "metadata": {},
   "outputs": [
    {
     "data": {
      "text/plain": [
       "1.2386666666666666"
      ]
     },
     "execution_count": 12,
     "metadata": {},
     "output_type": "execute_result"
    }
   ],
   "source": [
    "\n",
    "sample_mean = np.mean(df)\n",
    "sample_mean"
   ]
  },
  {
   "cell_type": "markdown",
   "id": "4d34af71",
   "metadata": {},
   "source": [
    "calculate the sample standard deviation"
   ]
  },
  {
   "cell_type": "code",
   "execution_count": 13,
   "id": "cdcd2463",
   "metadata": {},
   "outputs": [
    {
     "data": {
      "text/plain": [
       "0.19316412956959936"
      ]
     },
     "execution_count": 13,
     "metadata": {},
     "output_type": "execute_result"
    }
   ],
   "source": [
    "\n",
    "\n",
    "sample_std = np.std(df, ddof=1)  \n",
    "sample_std\n",
    "\n",
    "\n",
    "#  ddof=1 is used when calculating the sample standard deviation \n",
    "#  ddof=0 would be used for the population standard deviatio"
   ]
  },
  {
   "cell_type": "code",
   "execution_count": 14,
   "id": "0cfb6eef",
   "metadata": {},
   "outputs": [],
   "source": [
    "#  determine t-value Since the sample size is small (n < 30), we will use the t-distribution. \n",
    "#  The t-value can be found using the degrees of freedom (n-1) and the desired confidence level."
   ]
  },
  {
   "cell_type": "code",
   "execution_count": 15,
   "id": "e30e098e",
   "metadata": {},
   "outputs": [
    {
     "data": {
      "text/plain": [
       "(15,)"
      ]
     },
     "execution_count": 15,
     "metadata": {},
     "output_type": "execute_result"
    }
   ],
   "source": [
    "df.shape"
   ]
  },
  {
   "cell_type": "markdown",
   "id": "fd0e02a5",
   "metadata": {},
   "source": [
    " calculate n, confidence level, and alpha"
   ]
  },
  {
   "cell_type": "code",
   "execution_count": 25,
   "id": "2643efba",
   "metadata": {},
   "outputs": [
    {
     "data": {
      "text/plain": [
       "(15, 0.99, 0.010000000000000009)"
      ]
     },
     "execution_count": 25,
     "metadata": {},
     "output_type": "execute_result"
    }
   ],
   "source": [
    "n = len(df)\n",
    "confidence_level = 0.99\n",
    "alpha = 1 - confidence_level\n",
    "\n",
    "\n",
    "n,confidence_level,alpha"
   ]
  },
  {
   "cell_type": "markdown",
   "id": "974e07a7",
   "metadata": {},
   "source": [
    " calculate the t-value for 99% confidence level"
   ]
  },
  {
   "cell_type": "code",
   "execution_count": 26,
   "id": "ab6035f7",
   "metadata": {},
   "outputs": [
    {
     "data": {
      "text/plain": [
       "2.97684273411266"
      ]
     },
     "execution_count": 26,
     "metadata": {},
     "output_type": "execute_result"
    }
   ],
   "source": [
    "t_value = t.ppf(1 - alpha/2, df=n-1)\n",
    "t_value"
   ]
  },
  {
   "cell_type": "markdown",
   "id": "4905b0f7",
   "metadata": {},
   "source": [
    " calculate the margin of error and confidence interval"
   ]
  },
  {
   "cell_type": "code",
   "execution_count": 28,
   "id": "670b15ed",
   "metadata": {},
   "outputs": [],
   "source": [
    "\n",
    "margin_of_error = t_value * (sample_std / np.sqrt(n))\n",
    "confidence_interval = (sample_mean - margin_of_error, sample_mean + margin_of_error)\n"
   ]
  },
  {
   "cell_type": "code",
   "execution_count": 29,
   "id": "4c7d84e4",
   "metadata": {},
   "outputs": [
    {
     "data": {
      "text/plain": [
       "(0.1484693282152996, (1.090197338451367, 1.3871359948819662))"
      ]
     },
     "execution_count": 29,
     "metadata": {},
     "output_type": "execute_result"
    }
   ],
   "source": [
    "margin_of_error,confidence_interval"
   ]
  },
  {
   "cell_type": "code",
   "execution_count": 31,
   "id": "f662b142",
   "metadata": {},
   "outputs": [
    {
     "name": "stdout",
     "output_type": "stream",
     "text": [
      "A: 99% Confidence Interval Using Sample Standard Deviation\n",
      "Sample Mean: 1.24\n",
      "Sample Standard Deviation: 0.19\n",
      "99% Confidence Interval: 1.09 to 1.39\n"
     ]
    }
   ],
   "source": [
    "print(f\"A: 99% Confidence Interval Using Sample Standard Deviation\")\n",
    "print(f\"Sample Mean: {sample_mean:.2f}\")\n",
    "print(f\"Sample Standard Deviation: {sample_std:.2f}\")\n",
    "print(f\"99% Confidence Interval: {confidence_interval[0]:.2f} to {confidence_interval[1]:.2f}\")"
   ]
  },
  {
   "cell_type": "code",
   "execution_count": 44,
   "id": "cb557f3f",
   "metadata": {},
   "outputs": [],
   "source": [
    "# the interval from 1.09 to 1.39 suggests that we are 99 % confident the true population parameter lies within this \n",
    "# range this means if we took many samples and calculated a confidence interval from each one about 99 percent of those\n",
    "# intervals would include the true parameter"
   ]
  },
  {
   "cell_type": "markdown",
   "id": "84f24478",
   "metadata": {},
   "source": [
    "Explain the steps you take and the rationale behind using the t-distribution for this task."
   ]
  },
  {
   "cell_type": "code",
   "execution_count": null,
   "id": "c4d25448",
   "metadata": {},
   "outputs": [],
   "source": [
    "#why did we use t- distribution?\n",
    "# [1] the sample size is small n = 15 which makes t-distribution more appropriate than the normal distribution\n",
    "#[2] since the population standard deviation is not known and is estimated from the sample, the t-distribution is used."
   ]
  },
  {
   "cell_type": "markdown",
   "id": "9f86625c",
   "metadata": {},
   "source": [
    "# B: 99% Confidence Interval Using Known Population Standard Deviation"
   ]
  },
  {
   "cell_type": "markdown",
   "id": "aac57d82",
   "metadata": {},
   "source": [
    " population standard deviation"
   ]
  },
  {
   "cell_type": "code",
   "execution_count": 33,
   "id": "469d962c",
   "metadata": {},
   "outputs": [],
   "source": [
    "population_std = 0.2  # in millions of characters"
   ]
  },
  {
   "cell_type": "code",
   "execution_count": 35,
   "id": "fa620d1d",
   "metadata": {},
   "outputs": [
    {
     "data": {
      "text/plain": [
       "2.5758293035489004"
      ]
     },
     "execution_count": 35,
     "metadata": {},
     "output_type": "execute_result"
    }
   ],
   "source": [
    "z_value = norm.ppf(1 - alpha/2)\n",
    "z_value\n",
    "\n",
    "#The z-distribution is used when the sample size is large (typically n > 30) or when the population standard deviation \n",
    "# is known"
   ]
  },
  {
   "cell_type": "markdown",
   "id": "714bfba0",
   "metadata": {},
   "source": [
    " Calculate the margin of error and confidence interval"
   ]
  },
  {
   "cell_type": "code",
   "execution_count": 37,
   "id": "93eb5112",
   "metadata": {},
   "outputs": [
    {
     "data": {
      "text/plain": [
       "(0.13301525327090588, (1.1056514133957607, 1.3716819199375725))"
      ]
     },
     "execution_count": 37,
     "metadata": {},
     "output_type": "execute_result"
    }
   ],
   "source": [
    "\n",
    "margin_of_error_population = z_value * (population_std / np.sqrt(n))\n",
    "confidence_interval_population = (sample_mean - margin_of_error_population, sample_mean + margin_of_error_population)\n",
    "\n",
    "margin_of_error_population,confidence_interval_population"
   ]
  },
  {
   "cell_type": "code",
   "execution_count": 42,
   "id": "1e49b2a2",
   "metadata": {},
   "outputs": [
    {
     "name": "stdout",
     "output_type": "stream",
     "text": [
      "B: 99% Confidence Interval with Known Population Std Deviation\n",
      "99% Confidence Interval: 1.11 to 1.37\n"
     ]
    }
   ],
   "source": [
    "print(f\"B: 99% Confidence Interval with Known Population Std Deviation\")\n",
    "\n",
    "print(f\"99% Confidence Interval: {confidence_interval_population[0]:.2f} to {confidence_interval_population[1]:.2f}\")"
   ]
  },
  {
   "cell_type": "code",
   "execution_count": 43,
   "id": "62f864f3",
   "metadata": {},
   "outputs": [],
   "source": [
    "# the interval from 1.11 to 1.37 suggests that we are 99 % confident the true population parameter lies within this \n",
    "# range this means if we took many samples and calculated a confidence interval from each one about 99 percent of those\n",
    "# intervals would include the true parameter"
   ]
  },
  {
   "cell_type": "code",
   "execution_count": null,
   "id": "cafb4e14",
   "metadata": {},
   "outputs": [],
   "source": []
  }
 ],
 "metadata": {
  "kernelspec": {
   "display_name": "Python 3 (ipykernel)",
   "language": "python",
   "name": "python3"
  },
  "language_info": {
   "codemirror_mode": {
    "name": "ipython",
    "version": 3
   },
   "file_extension": ".py",
   "mimetype": "text/x-python",
   "name": "python",
   "nbconvert_exporter": "python",
   "pygments_lexer": "ipython3",
   "version": "3.11.5"
  }
 },
 "nbformat": 4,
 "nbformat_minor": 5
}
